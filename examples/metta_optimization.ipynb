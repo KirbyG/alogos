{
 "cells": [
  {
   "cell_type": "markdown",
   "id": "e21477b8",
   "metadata": {},
   "source": [
    "# Optimization in MeTTa\n",
    "\n",
    "Grammar-guided genetic programming (GGGP, G3P) can evolve programs in any user-defined context-free language.\n",
    "\n",
    "[alogos](https://github.com/robert-haas/alogos) is an ongoing implementation of some G3P methods in Python, supported by DeepFunding.\n",
    "\n",
    "## Preparation\n",
    "\n",
    "- MeTTa: I've copied `common.py` from `hyperon_experimental/python/tests/` to `hyperon_experimental/python/hyperon`\n",
    "\n",
    "- alogos: Installation with `pip install git+https://github.com/robert-haas/alogos.git`"
   ]
  },
  {
   "cell_type": "code",
   "execution_count": 1,
   "id": "531b382a",
   "metadata": {},
   "outputs": [],
   "source": [
    "import alogos as al\n",
    "from hyperon.common import MeTTa"
   ]
  },
  {
   "cell_type": "markdown",
   "id": "ff667bf8",
   "metadata": {},
   "source": [
    "## A function in two variables"
   ]
  },
  {
   "cell_type": "code",
   "execution_count": 2,
   "id": "5277902d",
   "metadata": {},
   "outputs": [
    {
     "data": {
      "text/plain": [
       "[13]"
      ]
     },
     "execution_count": 2,
     "metadata": {},
     "output_type": "execute_result"
    }
   ],
   "source": [
    "metta = MeTTa()\n",
    "metta.add_parse('(= (func $x $y) (+ (* $x $x) (* $y $y)) )')\n",
    "metta.interpret('(func 2 3)')"
   ]
  },
  {
   "cell_type": "markdown",
   "id": "e7bb508c",
   "metadata": {},
   "source": [
    "## Search space\n",
    "\n",
    "A context-free grammar is used to define a formal language (=a set of strings), which acts as search space."
   ]
  },
  {
   "cell_type": "code",
   "execution_count": 3,
   "id": "06e1d08c",
   "metadata": {},
   "outputs": [],
   "source": [
    "ebnf_text = \"\"\"\n",
    "EXPR = \"(func \" NUM \" \" NUM \")\"\n",
    "NUM = DIGIT \".\" DIGIT DIGIT\n",
    "DIGIT = \"0\" | \"1\" | \"2\" | \"3\" | \"4\" | \"5\" | \"6\" | \"7\" | \"8\" | \"9\"\n",
    "\"\"\"\n",
    "\n",
    "grammar = al.Grammar(ebnf_text=ebnf_text)"
   ]
  },
  {
   "cell_type": "markdown",
   "id": "1d839d7c",
   "metadata": {},
   "source": [
    "Generate a random string"
   ]
  },
  {
   "cell_type": "code",
   "execution_count": 4,
   "id": "49bb10d8",
   "metadata": {},
   "outputs": [
    {
     "data": {
      "text/plain": [
       "'(func 9.32 5.34)'"
      ]
     },
     "execution_count": 4,
     "metadata": {},
     "output_type": "execute_result"
    }
   ],
   "source": [
    "grammar.generate_string()"
   ]
  },
  {
   "cell_type": "markdown",
   "id": "cd2dda17",
   "metadata": {},
   "source": [
    "## Objective\n",
    "\n",
    "An objective function gets a candidate string as input and needs to return a score or fitness for it."
   ]
  },
  {
   "cell_type": "code",
   "execution_count": 5,
   "id": "c8d5e0ca",
   "metadata": {},
   "outputs": [],
   "source": [
    "def objective_function(string):\n",
    "    if len(string) > 100:\n",
    "        return None  # prevent too long expressions\n",
    "\n",
    "    result = metta.interpret(string)\n",
    "    z = result[0].get_object().value\n",
    "    return z"
   ]
  },
  {
   "cell_type": "code",
   "execution_count": 6,
   "id": "a6d0035c",
   "metadata": {},
   "outputs": [
    {
     "name": "stdout",
     "output_type": "stream",
     "text": [
      "(func 3.76 7.68)\n"
     ]
    },
    {
     "data": {
      "text/plain": [
       "73.12"
      ]
     },
     "execution_count": 6,
     "metadata": {},
     "output_type": "execute_result"
    }
   ],
   "source": [
    "s = grammar.generate_string()\n",
    "print(s)\n",
    "\n",
    "objective_function(s)"
   ]
  },
  {
   "cell_type": "markdown",
   "id": "403644cb",
   "metadata": {},
   "source": [
    "## Optimization\n",
    "\n",
    "An evolutionary algorithm starts from a population of random strings and improves them one generation after another. It introduces random variations (crossover, mutation) and selects for better individuals (parent selection, survivor selection). At the end it returns the best individual found so far."
   ]
  },
  {
   "cell_type": "code",
   "execution_count": 7,
   "id": "e2fc1343",
   "metadata": {},
   "outputs": [],
   "source": [
    "num_gen = 50\n",
    "num_ind = 50\n",
    "\n",
    "ea = al.EvolutionaryAlgorithm(\n",
    "    grammar, objective_function, 'min', verbose=True,\n",
    "    max_or_min_fitness=0.0, max_generations=num_gen, population_size=num_ind, offspring_size=num_ind\n",
    ")"
   ]
  },
  {
   "cell_type": "code",
   "execution_count": 8,
   "id": "03bf84a8",
   "metadata": {},
   "outputs": [
    {
     "name": "stdout",
     "output_type": "stream",
     "text": [
      "Progress         Generations      Evaluations      Runtime (sec)    Best fitness    \n",
      "..... .....      10               485              1.6              0.0181\n",
      "..... ...\n",
      "\n",
      "Finished         18               858              3.0              0.0             \n"
     ]
    }
   ],
   "source": [
    "best_ind = ea.run()"
   ]
  },
  {
   "cell_type": "code",
   "execution_count": 9,
   "id": "d642f450",
   "metadata": {},
   "outputs": [
    {
     "data": {
      "text/plain": [
       "CFG-GP-ST individual:\n",
       "- Genotype: ((0,3,1,2,7,6,2,7,2,7,4,1,2,7,6,2,7,2,7,5),(5,0,4,1,0,0,1,0,1,0,0,4,1,0,0,1,0,1,0,0))\n",
       "- Phenotype: (func 0.00 0.00)\n",
       "- Fitness: 0.0"
      ]
     },
     "execution_count": 9,
     "metadata": {},
     "output_type": "execute_result"
    }
   ],
   "source": [
    "best_ind"
   ]
  },
  {
   "cell_type": "code",
   "execution_count": 10,
   "id": "dbf85c8e",
   "metadata": {},
   "outputs": [
    {
     "data": {
      "text/plain": [
       "[0.0]"
      ]
     },
     "execution_count": 10,
     "metadata": {},
     "output_type": "execute_result"
    }
   ],
   "source": [
    "metta.interpret(best_ind.phenotype)"
   ]
  }
 ],
 "metadata": {
  "kernelspec": {
   "display_name": "Python 3 (ipykernel)",
   "language": "python",
   "name": "python3"
  },
  "language_info": {
   "codemirror_mode": {
    "name": "ipython",
    "version": 3
   },
   "file_extension": ".py",
   "mimetype": "text/x-python",
   "name": "python",
   "nbconvert_exporter": "python",
   "pygments_lexer": "ipython3",
   "version": "3.10.4"
  }
 },
 "nbformat": 4,
 "nbformat_minor": 5
}
